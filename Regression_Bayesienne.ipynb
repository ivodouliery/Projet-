{
 "cells": [
  {
   "cell_type": "markdown",
   "metadata": {},
   "source": [
    "# Application d'une approche variationnelle pour un modèle de régression bayésien"
   ]
  },
  {
   "cell_type": "code",
   "execution_count": 1,
   "metadata": {},
   "outputs": [],
   "source": [
    "\"\"\"\"\"\"\"\"\"\"\"\"\"\"\"\"\"\n",
    "Required packagesRequired packages\n",
    "\n",
    "\"\"\"\"\"\"\"\"\"\"\"\"\"\"\"\"\"\n",
    "import numpy as np\n",
    "import matplotlib.pyplot as plt\n",
    "import matplotlib\n",
    "import scipy.stats as stat\n",
    "from math import gamma\n",
    "from scipy.stats import multivariate_normal"
   ]
  },
  {
   "cell_type": "raw",
   "metadata": {},
   "source": [
    "Ce projet est inspiré de l'article : ``Variational Inference: A Review for Statisticians, Blei, Kucukelbir,  McAuliffe; (2018)`` et ``Drugowitsch, J. (2013). Variational Bayesian inference for linear and logistic regression``"
   ]
  },
  {
   "cell_type": "markdown",
   "metadata": {},
   "source": [
    "#### Modèle "
   ]
  },
  {
   "cell_type": "markdown",
   "metadata": {},
   "source": [
    "On considère un modèle de régression bayésien \n",
    "\n",
    "$$\\\\[1em]\\mathbf{y} = \\mathbf{X}\\boldsymbol{\\beta} + \\boldsymbol{\\epsilon}$$\n",
    " avec\n",
    " \\begin{align*}\n",
    "\\mathbf{y} & = (y_1, y_2, \\ldots, y_n) \\in \\mathbb{R}^n \\\\[1em]\n",
    "\\mathbf{X} & = \\begin{pmatrix}\n",
    "x_{1,1} & x_{1,2} & \\ldots & x_{1,D} \\\\\n",
    "x_{2,1} & x_{2,2} & \\ldots & x_{2,D} \\\\\n",
    "\\vdots & \\vdots & \\ddots & \\vdots \\\\\n",
    "x_{n,1} & x_{n,2} & \\ldots & x_{n,D}\n",
    "\\end{pmatrix} \\in \\mathbb{R}^{n \\times D} \\\\[1em]\n",
    "\\boldsymbol{\\beta} & = (\\beta_1, \\beta_2, \\ldots, \\beta_D) \\in \\mathbb{R}^D\\\\[1em]\n",
    "\\\\\n",
    "\\end{align*}\n",
    "Et $\\boldsymbol{\\epsilon} \\in \\mathbb{R}^n$ un vecteur de $\\mathcal{N}(0, \\boldsymbol{\\tau})$\n",
    "\n",
    "Ici $\\mathbf{X}$ et $\\mathbf{y}$ sont observés, les variables latentes sont $\\boldsymbol{\\beta}$ et $\\boldsymbol{\\tau}$ .\n",
    "\n",
    "Nous présentons ici un modèle de régression linéaire bayésien conditionnellement conjugué avec un ARD\n",
    "a priori\n",
    "On a ainsi $p(y | \\beta, \\tau ; x) = \\prod_{i=1}^{n} \\mathcal{N}(y_i | \\beta^\\top x_i, \\tau)$.\n",
    "\n",
    "Automatic relevance determination (ARD) attribue un a priori distinct à chaque coefficient de régression $\\boldsymbol{\\beta_d}$.\n",
    "\\begin{align*}\n",
    "p(y ; x) &= p(y | \\beta, \\tau ; x)p(\\beta, \\tau)\\,,\\\\\n",
    "&=p(y | \\beta, \\tau ; x)p(\\beta, \\tau | \\alpha)p(\\alpha)\\,,\n",
    "\\end{align*}\n",
    "\n",
    "\n",
    "avec $p(\\beta; \\tau | \\alpha) = \\mathcal{N}(\\beta | 0, \\tau \\text{diag}(\\alpha)) \\, \\text{Gam}(\\tau | a_0, b_0)\n",
    "$\n",
    "\n",
    "et $p(\\alpha)$ la densité d'un produit de $\\Gamma(c_0,d_0)$\n",
    "\n",
    "On peut identifier $ a_0, b_0, c_0, d_0$ comme des hyperparamètres dont leure étude sera intéressante.\n",
    "\n",
    "\n",
    "Attention : La notation $Loi(variable | parametre1, parametre2)$ signifie que la variable suit la loi Loi de paramètres : parametre1, parametre2.\n",
    "\n",
    "Attention 2 : Dans la suite, on notera $V = \\tau \\text{diag}(\\alpha)$ la variance de  $\\beta$.\n"
   ]
  },
  {
   "cell_type": "markdown",
   "metadata": {},
   "source": [
    "#### Dataset "
   ]
  },
  {
   "cell_type": "code",
   "execution_count": 2,
   "metadata": {},
   "outputs": [],
   "source": [
    "D = 20\n",
    "N = 150\n",
    "a0 = 1\n",
    "b0 = 1\n",
    "c0 = 1\n",
    "d00 = 1\n",
    "d0 = [d00 for _ in range(D)]\n",
    "\n",
    "#Génération d'un tau\n",
    "tau = stat.gamma.rvs(a0,b0)\n",
    "alpha = [stat.gamma.rvs(c0,d) for d in d0]\n",
    "\n",
    "# Génération d'un Beta\n",
    "B = stat.norm.rvs(0,tau*np.diag(alpha)).diagonal()\n",
    "\n",
    "\n",
    "# Génération d'une matrice X de taille (N, D)\n",
    "X = np.random.rand(D,N)\n",
    "\n",
    "y = np.array([X.T[i]@B + stat.norm.rvs(0,tau) for i in range (N)])\n",
    "\n",
    "V = np.linalg.inv(c0 * np.diag(d0) + X@X.T)"
   ]
  },
  {
   "cell_type": "markdown",
   "metadata": {},
   "source": [
    " #### CAVI"
   ]
  },
  {
   "cell_type": "markdown",
   "metadata": {},
   "source": [
    "La mise à jour pour l'algorithme cavi procurer par les articles mentionner ci-dessus est:\n",
    "\n",
    "\\begin{align*}\n",
    "V_N &= \\left( \\frac{c_N}{d_{Ni}} I + \\sum_{i=1}^n x_i x_i^T \\right)^{-1} \\\\\n",
    "\\beta_N &= V_N \\left( \\sum_{i=1}^n x_i y_i \\right) \\\\\n",
    "a_N &= a_0 + \\frac{N}{2} \\\\\n",
    "c_N &= c_0 + \\frac{1}{2} \\\\\n",
    "b_N &= b_0 + \\frac{1}{2} \\left( \\sum_{i=1}^n y_i^2 - \\beta_N^T V_N^{-1} \\beta_N + \\text{tr}(V_N^{-1} V_1) \\right) \\\\\n",
    "d_{Ni} &= d_0 + \\frac{1}{2} (\\beta_{Ni})^2 \\frac{a_N}{b_N} (V_N)_{ii}\n",
    "\\end{align*}\n",
    "\n"
   ]
  },
  {
   "cell_type": "code",
   "execution_count": 3,
   "metadata": {},
   "outputs": [],
   "source": [
    "def update(beta,V,b,d,X,Y,a,c):\n",
    "    V = np.linalg.inv(np.diag(c/d) + X@X.T)\n",
    "    beta = V@X@Y\n",
    "    b=0.5*np.sum(Y**2) -0.5*beta.T@V@beta + b0\n",
    "    d = d0 + 0.5*(np.diag(V)+beta**2*a/b)\n",
    "    return (beta, V, b, d)"
   ]
  },
  {
   "cell_type": "markdown",
   "metadata": {},
   "source": [
    "La ELBO (Evidence Lower BOund) est calcule de la manière suivante:"
   ]
  },
  {
   "cell_type": "markdown",
   "metadata": {},
   "source": [
    "\\begin{align*}\n",
    "L(Q) = - \\frac{N}{2} \\ln(2\\pi) - \\frac{1}{2} \\frac{b_N}{a_N} \\sum_{i=1}^n ((y_i - \\beta_N^T x_i)^2 + x_i^T V_N x_i )+ \\frac{1}{2} \\ln \\det(V_N) + \\frac{D}{2} - \\ln(\\Gamma(a_0)) + a_0 \\ln(b_0) - b_0 \\frac{a_N}{b_n} + \\ln(\\Gamma(a_N))\n",
    "+ a_N +\\sum_{i=1}^n( \\ln \\Gamma(c_0) + c_0 \\ln(d_0) - \\ln \\Gamma(c_N) + c_N \\ln(d_{Ni}))\n",
    "\\end{align*}"
   ]
  },
  {
   "cell_type": "code",
   "execution_count": 4,
   "metadata": {},
   "outputs": [],
   "source": [
    "def elbo(beta,V,a,b,c,d,X,Y):\n",
    "    first_item = -np.sum([a/b*(Y[i]-beta.T@X.T[i])**2 + X.T[i]@V@X.T[i] for i in range(N)])/2\n",
    "    ligne1 = -N/2*np.log(2*np.pi)+ first_item + 1/2*np.log(np.abs(np.linalg.det(V))) + D/2\n",
    "    ligne2 = -np.log(gamma(a0))+a0*np.log(b0)-b0*a/b + np.log(gamma(a))-a*np.log(b)+a\n",
    "    ligne3 = -np.log(gamma(c0)) + c0*np.log(d00)+np.log(gamma(c))-c*np.sum([np.log(di) for di in d])\n",
    "    \n",
    "    return ligne1 + ligne2 + ligne3"
   ]
  },
  {
   "cell_type": "markdown",
   "metadata": {},
   "source": [
    "L'algorithme CAVI s'écrit alors:"
   ]
  },
  {
   "cell_type": "code",
   "execution_count": 5,
   "metadata": {},
   "outputs": [],
   "source": [
    "def Cavi(beta,V,a,b,c,d,X,Y,max_iter,eps):\n",
    "    a=a0+N/2\n",
    "    c=c0+1/2\n",
    "    elbos = [elbo(beta,V,a,b,c,d,X,Y)]\n",
    "    beta_list = [beta]\n",
    "    V_list =[V]\n",
    "    b_list =[b]\n",
    "    d_list = [d]\n",
    "    dist_liste=[np.linalg.norm(beta-B)]\n",
    "    for ite in range(1,max_iter+1):\n",
    "       \n",
    "        beta, V, b, d = update(beta,V,b,d,X,Y,a,c)\n",
    "        V_list.append(V)\n",
    "        b_list.append(b)\n",
    "        d_list.append(d)\n",
    "        beta_list.append(beta)\n",
    "        dist_liste.append(np.linalg.norm(beta-B))\n",
    "        \n",
    "        elbos.append(elbo(beta,V,a,b,c,d,X,Y))\n",
    "        if np.linalg.norm(elbos[-2] - elbos[-1]) <= eps:\n",
    "            break\n",
    "    \n",
    "    \n",
    "    return (elbos,beta_list,V_list,b_list,d_list,dist_liste)"
   ]
  },
  {
   "cell_type": "code",
   "execution_count": 6,
   "metadata": {},
   "outputs": [],
   "source": [
    "max_iter = 5000\n",
    "eps= 1e-3"
   ]
  },
  {
   "cell_type": "code",
   "execution_count": 7,
   "metadata": {},
   "outputs": [],
   "source": [
    "atest=1e-2\n",
    "btest=1e-4\n",
    "ctest=1e-2\n",
    "dtest=np.array([1e-4 for _ in range (D)])\n",
    "\n",
    "tau = stat.gamma.rvs(atest,btest)\n",
    "alpha = [stat.gamma.rvs(ctest,d) for d in dtest]\n",
    "\n",
    "\n",
    "\n",
    "betatest = stat.norm.rvs(0,tau*np.diag(alpha)).diagonal()\n",
    "Vtest = np.linalg.inv(ctest * np.diag(dtest) + np.sum([x@x.T for x in X]))\n"
   ]
  },
  {
   "cell_type": "code",
   "execution_count": 8,
   "metadata": {
    "scrolled": true
   },
   "outputs": [],
   "source": [
    "elbos, betas, Vs, bs, ds, dist = Cavi(betatest,Vtest,atest,btest,ctest,dtest,X,y,max_iter,eps)\n"
   ]
  },
  {
   "cell_type": "code",
   "execution_count": 9,
   "metadata": {},
   "outputs": [
    {
     "data": {
      "text/plain": [
       "Text(0.5, 1.0, 'evolution de la distance entre le beta approché et le vrai')"
      ]
     },
     "execution_count": 9,
     "metadata": {},
     "output_type": "execute_result"
    },
    {
     "data": {
      "image/png": "[encoded data removed]",
      "text/plain": [
       "<Figure size 1008x504 with 2 Axes>"
      ]
     },
     "metadata": {
      "needs_background": "light"
     },
     "output_type": "display_data"
    }
   ],
   "source": [
    "xx = np.arange(0,len(elbos),1)\n",
    "fig,ax = plt.subplots(1,2,figsize=(14,7))\n",
    "ax[0].plot(xx[1:],elbos[1:])\n",
    "ax[0].set_xlabel(\"itérations\")\n",
    "ax[0].set_ylabel(\"ELBO\")\n",
    "ax[0].set_title(\"evolution de la ELBO\")\n",
    "ax[1].plot(xx[1:],dist[1:])\n",
    "ax[1].set_xlabel(\"itérations\")\n",
    "ax[1].set_ylabel(\"distance\")\n",
    "ax[1].set_title(\"evolution de la distance entre le beta approché et le vrai\")\n"
   ]
  },
  {
   "cell_type": "code",
   "execution_count": 10,
   "metadata": {},
   "outputs": [
    {
     "data": {
      "text/plain": [
       "<matplotlib.legend.Legend at 0x21da32a4df0>"
      ]
     },
     "execution_count": 10,
     "metadata": {},
     "output_type": "execute_result"
    },
    {
     "data": {
      "image/png": "[encoded data removed]",
      "text/plain": [
       "<Figure size 1152x432 with 1 Axes>"
      ]
     },
     "metadata": {
      "needs_background": "light"
     },
     "output_type": "display_data"
    }
   ],
   "source": [
    "fig,ax=plt.subplots(1,1,figsize=(16,6))\n",
    "\n",
    "xx=np.arange(0,D)\n",
    "plt.scatter(xx,B,marker='x',label=\"Vrai Beta\")\n",
    "plt.scatter(xx,betas[-1],marker='*',color=\"red\",label=\"Beta approché\")\n",
    "plt.plot(xx,np.zeros(D))\n",
    "plt.grid()\n",
    "plt.ylim([-20,20])\n",
    "plt.legend()"
   ]
  },
  {
   "cell_type": "markdown",
   "metadata": {},
   "source": [
    "On peut remarquer que comme l'on s'y attendait l'algorithme converge. Notamment on peut observer la ELBO se stabilise rapidement sur un plateau."
   ]
  },
  {
   "cell_type": "markdown",
   "metadata": {},
   "source": [
    "### Influence de l'initilisation des hyperparamètres sur l'estimation de $\\boldsymbol{\\beta}$"
   ]
  },
  {
   "cell_type": "code",
   "execution_count": 11,
   "metadata": {},
   "outputs": [],
   "source": [
    "#Definition d'une fonction retournant un dataset en fonction des hyperparamètres\n",
    "\n",
    "def data_gen(a0,b0,c0,d):\n",
    "    \n",
    "    tau = stat.gamma.rvs(a0,b0)\n",
    "    alpha = [stat.gamma.rvs(c0,d) for d in d0]\n",
    "    \n",
    "    B = stat.norm.rvs(0,tau*np.diag(alpha)).diagonal()\n",
    "\n",
    "    X = np.random.rand(D,N)\n",
    "    y = np.array([X.T[i]@B + stat.norm.rvs(0,tau) for i in range (N)])\n",
    "\n",
    "    V = np.linalg.inv(c0 * np.diag(d0) + X@X.T)\n",
    "    return (X,y,B,V)"
   ]
  },
  {
   "cell_type": "code",
   "execution_count": 12,
   "metadata": {},
   "outputs": [],
   "source": [
    "#Vrai parametre \n",
    "a=2\n",
    "b=3\n",
    "c=1\n",
    "d=5"
   ]
  },
  {
   "cell_type": "code",
   "execution_count": 13,
   "metadata": {},
   "outputs": [],
   "source": [
    "data = data_gen(a,b,c,d)\n",
    "\n",
    "#vrai Beta\n",
    "B = data[2]                 \n",
    "          \n",
    "#Observations\n",
    "X = data[0]\n",
    "y = data[1]"
   ]
  },
  {
   "cell_type": "code",
   "execution_count": 14,
   "metadata": {},
   "outputs": [],
   "source": [
    "def ecart(a0,b0,c0,d0):\n",
    "    \n",
    "    dist=[]\n",
    "    for _ in range (300):\n",
    "        \n",
    "        tau = stat.gamma.rvs(a0,b0)\n",
    "        alpha = [stat.gamma.rvs(c0,d) for d in d0]\n",
    "        beta0 = stat.norm.rvs(0,tau*np.diag(alpha)).diagonal()\n",
    "        V0 = np.linalg.inv(ctest * np.diag(dtest) + np.sum([x@x.T for x in X]))\n",
    "        \n",
    "        dist.append(Cavi(beta0,V0,a0,b0,c0,d0,X,y,max_iter,eps)[5][-1])\n",
    "        \n",
    "    \n",
    "    return np.array(dist).mean()"
   ]
  },
  {
   "cell_type": "markdown",
   "metadata": {},
   "source": [
    "#### <font color=red>  Hyperparamètres petits</font>"
   ]
  },
  {
   "cell_type": "markdown",
   "metadata": {},
   "source": [
    "Dans l'article de Drugowitsch, ils recommandent d'initialiser par défaut de la manière suivante:\n"
   ]
  },
  {
   "cell_type": "code",
   "execution_count": 15,
   "metadata": {},
   "outputs": [],
   "source": [
    "a0, b0, c0, d0 = (1e-2,1e-4,1e-2,np.array([1e-4 for _ in range (D)]))\n"
   ]
  },
  {
   "cell_type": "code",
   "execution_count": 16,
   "metadata": {},
   "outputs": [
    {
     "name": "stdout",
     "output_type": "stream",
     "text": [
      "la distance moyenne a Beta est :21.677135573899804\n"
     ]
    }
   ],
   "source": [
    "print(f\"la distance moyenne a Beta est :{ecart(a0, b0 ,c0, d0)}\")  #la ligne de code prend ~20 sec"
   ]
  },
  {
   "cell_type": "code",
   "execution_count": 17,
   "metadata": {},
   "outputs": [
    {
     "name": "stdout",
     "output_type": "stream",
     "text": [
      "le nombre d itération pour atteindre le critère de convergence est :32\n"
     ]
    }
   ],
   "source": [
    "tau = stat.gamma.rvs(a0,b0)\n",
    "alpha = [stat.gamma.rvs(c0,d) for d in d0]\n",
    "beta0 = stat.norm.rvs(0,tau*np.diag(alpha)).diagonal()\n",
    "V0 = np.linalg.inv(ctest * np.diag(dtest) + np.sum([x@x.T for x in X]))\n",
    "    \n",
    "    \n",
    "print(f\"le nombre d itération pour atteindre le critère de convergence est :{len(Cavi(beta0,V0,a0,b0,c0,d0,X,y,max_iter,eps)[0])}\")\n",
    "\n",
    "Beta1 = Cavi(beta0,V0,a0,b0,c0,d0,X,y,max_iter,eps)[1][-1]"
   ]
  },
  {
   "cell_type": "markdown",
   "metadata": {},
   "source": [
    "#### <font color=red>  Hyperparamètres exacts</font>"
   ]
  },
  {
   "cell_type": "code",
   "execution_count": 18,
   "metadata": {},
   "outputs": [],
   "source": [
    "a0, b0, c0, d0 = (2,3,1,5*np.ones(D))"
   ]
  },
  {
   "cell_type": "code",
   "execution_count": 19,
   "metadata": {},
   "outputs": [
    {
     "name": "stdout",
     "output_type": "stream",
     "text": [
      "la distance moyenne a Beta est :7.956246028879989\n"
     ]
    }
   ],
   "source": [
    "print(f\"la distance moyenne a Beta est :{ecart(a0, b0 ,c0, d0)}\")"
   ]
  },
  {
   "cell_type": "code",
   "execution_count": 20,
   "metadata": {},
   "outputs": [
    {
     "name": "stdout",
     "output_type": "stream",
     "text": [
      "le nombre d itération pour atteindre le critère de convergence est :3\n"
     ]
    }
   ],
   "source": [
    "tau = stat.gamma.rvs(a0,b0)\n",
    "alpha = [stat.gamma.rvs(c0,d) for d in d0]\n",
    "beta0 = stat.norm.rvs(0,tau*np.diag(alpha)).diagonal()\n",
    "V0 = np.linalg.inv(ctest * np.diag(dtest) + np.sum([x@x.T for x in X]))\n",
    "    \n",
    "    \n",
    "print(f\"le nombre d itération pour atteindre le critère de convergence est :{len(Cavi(beta0,V0,a0,b0,c0,d0,X,y,max_iter,eps)[0])}\")\n",
    "Beta2 = Cavi(beta0,V0,a0,b0,c0,d0,X,y,max_iter,eps)[1][-1]"
   ]
  },
  {
   "cell_type": "markdown",
   "metadata": {},
   "source": [
    "#### <font color=red>  Hyperparamètres grands</font>"
   ]
  },
  {
   "cell_type": "code",
   "execution_count": 21,
   "metadata": {},
   "outputs": [],
   "source": [
    "a0, b0, c0, d0 = (10,36,52,60*np.ones(D))"
   ]
  },
  {
   "cell_type": "code",
   "execution_count": 22,
   "metadata": {},
   "outputs": [
    {
     "name": "stdout",
     "output_type": "stream",
     "text": [
      "la distance moyenne a Beta est :7.783465720720299\n"
     ]
    }
   ],
   "source": [
    "print(f\"la distance moyenne a Beta est :{ecart(a0, b0 ,c0, d0)}\")"
   ]
  },
  {
   "cell_type": "code",
   "execution_count": 23,
   "metadata": {},
   "outputs": [
    {
     "name": "stdout",
     "output_type": "stream",
     "text": [
      "le nombre d itération pour atteindre le critère de convergence est :3\n"
     ]
    }
   ],
   "source": [
    "tau = stat.gamma.rvs(a0,b0)\n",
    "alpha = [stat.gamma.rvs(c0,d) for d in d0]\n",
    "beta0 = stat.norm.rvs(0,tau*np.diag(alpha)).diagonal()\n",
    "V0 = np.linalg.inv(ctest * np.diag(dtest) + np.sum([x@x.T for x in X]))\n",
    "    \n",
    "    \n",
    "print(f\"le nombre d itération pour atteindre le critère de convergence est :{len(Cavi(beta0,V0,a0,b0,c0,d0,X,y,max_iter,eps)[0])}\")\n",
    "Beta3 = Cavi(beta0,V0,a0,b0,c0,d0,X,y,max_iter,eps)[1][-1]"
   ]
  },
  {
   "cell_type": "markdown",
   "metadata": {},
   "source": [
    "On remarque que plus les hyperparamètres initiaux sont grands, mieux $\\boldsymbol{\\beta}$ sera approché.\n",
    "Ce qui change également est la vitesse de convergence de Cavi. En effet on l'identifie bien avec ce graphe :\n"
   ]
  },
  {
   "cell_type": "code",
   "execution_count": 24,
   "metadata": {},
   "outputs": [
    {
     "data": {
      "text/plain": [
       "<matplotlib.legend.Legend at 0x21da3474700>"
      ]
     },
     "execution_count": 24,
     "metadata": {},
     "output_type": "execute_result"
    },
    {
     "data": {
      "image/png": "[encoded data removed]",
      "text/plain": [
       "<Figure size 1152x432 with 1 Axes>"
      ]
     },
     "metadata": {
      "needs_background": "light"
     },
     "output_type": "display_data"
    }
   ],
   "source": [
    "fig,ax=plt.subplots(1,1,figsize=(16,6))\n",
    "\n",
    "xx=np.arange(0,D)\n",
    "plt.scatter(xx,B,marker='x',label=\"Vrai Beta\")\n",
    "plt.scatter(xx,Beta1,marker='*',label=\"avec hyperparametres petits\")\n",
    "plt.scatter(xx,Beta2,marker='*',label=\"avec hyperparametres exacts\")\n",
    "plt.scatter(xx,Beta3,marker='*',label=\"avec hyperparametres grands\")\n",
    "plt.plot(xx,np.zeros(D))\n",
    "plt.grid()\n",
    "plt.ylim([-30,30])\n",
    "plt.title(\"Différentes approxiamtion de Beta en fonction du choix des hyperparamètres\")\n",
    "plt.legend()"
   ]
  },
  {
   "cell_type": "markdown",
   "metadata": {},
   "source": [
    "Pour des hyperparamètres arbitrairement grands la convergence est beaucoup plus rapide qu'avec les recommandés."
   ]
  },
  {
   "cell_type": "markdown",
   "metadata": {},
   "source": [
    "On peut conclure que l'initialisation des hyperparamètres a une influence sur la distance moyenne au vrai $\\boldsymbol{\\beta}$.\n",
    "De plus, initilaisés trop près de 0, les hyperparamètres vont entrainer une mauvaise approximation de $\\boldsymbol{\\beta}$ en effet elle a un effet de \"shrinkage\"."
   ]
  },
  {
   "cell_type": "markdown",
   "metadata": {},
   "source": [
    "### Approche frequentiste"
   ]
  },
  {
   "cell_type": "markdown",
   "metadata": {},
   "source": [
    "Cette fois ci $\\boldsymbol{\\beta}$ est tiré aléatoirement sans dépendre des hyperparamètres.\n",
    "\n",
    "Le but étant de voir si l'algorithme permet d'associer des hyperparamètres au $\\boldsymbol{\\beta}$ que l'on identifie avec CAVI."
   ]
  },
  {
   "cell_type": "code",
   "execution_count": 25,
   "metadata": {},
   "outputs": [],
   "source": [
    "sgm =1\n",
    "\n",
    "# Génération d'un Beta\n",
    "B =  10*np.random.randn(D)\n",
    "\n",
    "\n",
    "# Génération d'une matrice X de taille (N, D)\n",
    "X = np.random.rand(D,N)\n",
    "\n",
    "y = np.array([X.T[i]@B + stat.norm.rvs(0,sgm) for i in range (N)])\n"
   ]
  },
  {
   "cell_type": "markdown",
   "metadata": {},
   "source": [
    "Reprenons les hyperparamètres étudiés dans la section précédente pour initailiser l'algorithme"
   ]
  },
  {
   "cell_type": "code",
   "execution_count": 26,
   "metadata": {},
   "outputs": [],
   "source": [
    "a0, b0, c0, d0 = (2,3,1,5*np.ones(D))"
   ]
  },
  {
   "cell_type": "code",
   "execution_count": 27,
   "metadata": {},
   "outputs": [],
   "source": [
    "tau = stat.gamma.rvs(a0,b0)\n",
    "alpha = [stat.gamma.rvs(c0,d) for d in d0]\n",
    "beta0 = stat.norm.rvs(0,tau*np.diag(alpha)).diagonal()\n",
    "V0 = np.linalg.inv(c0 * np.diag(d0) + np.sum([x@x.T for x in X]))"
   ]
  },
  {
   "cell_type": "code",
   "execution_count": 28,
   "metadata": {},
   "outputs": [],
   "source": [
    "elbos, betas, Vs, bs, ds, dist = Cavi(beta0,V0,a0,b0,b0,d0,X,y,max_iter,eps)"
   ]
  },
  {
   "cell_type": "markdown",
   "metadata": {},
   "source": [
    "Ici, seulement V va nous intéresser.\n",
    "Notre nouveau $\\boldsymbol{\\beta}$ sera la réalisation moyenne d'une normale multivariée avec V pour matrice de covariance qui correspond à la derniere mise à jour dans l'algorithme CAVI."
   ]
  },
  {
   "cell_type": "code",
   "execution_count": 29,
   "metadata": {},
   "outputs": [],
   "source": [
    "\n",
    "l=[]\n",
    "for _ in range (500):\n",
    "    l.append(multivariate_normal.rvs(np.zeros(D), Vs[-1]))\n",
    "beta2 = [np.array(l[i]).mean() for i in range (D)]"
   ]
  },
  {
   "cell_type": "code",
   "execution_count": 30,
   "metadata": {},
   "outputs": [
    {
     "data": {
      "text/plain": [
       "<matplotlib.legend.Legend at 0x21da380e280>"
      ]
     },
     "execution_count": 30,
     "metadata": {},
     "output_type": "execute_result"
    },
    {
     "data": {
      "image/png": "[encoded data removed]",
      "text/plain": [
       "<Figure size 1152x432 with 1 Axes>"
      ]
     },
     "metadata": {
      "needs_background": "light"
     },
     "output_type": "display_data"
    }
   ],
   "source": [
    "fig,ax=plt.subplots(1,1,figsize=(16,6))\n",
    "\n",
    "xx=np.arange(0,D)\n",
    "plt.scatter(xx,B/np.linalg.norm(B),marker='x',label=\"Vrai Beta\")\n",
    "plt.scatter(xx,beta2/np.linalg.norm(beta2),marker='*',label=\"Beta expérimentale\")\n",
    "plt.plot(xx,np.zeros(D))\n",
    "plt.grid()\n",
    "plt.ylim([-0.5,0.5])\n",
    "plt.title(\"Approche fréquentiste\")\n",
    "plt.legend()"
   ]
  },
  {
   "cell_type": "markdown",
   "metadata": {},
   "source": [
    "On remarque que ce nouveau $\\boldsymbol{\\beta}$ n'approche pas du tout le vrai $\\boldsymbol{\\beta}$.\n",
    "\n",
    "\n",
    "\n",
    "\n"
   ]
  },
  {
   "cell_type": "markdown",
   "metadata": {},
   "source": [
    "### Sparsité"
   ]
  },
  {
   "cell_type": "code",
   "execution_count": 31,
   "metadata": {},
   "outputs": [],
   "source": [
    "#Génération d'un tau\n",
    "tau = stat.gamma.rvs(a0,b0)\n",
    "alpha = [stat.gamma.rvs(c0,d) for d in d0]\n",
    "\n",
    "# Génération d'un Beta\n",
    "B = stat.norm.rvs(0,tau*np.diag(alpha)).diagonal()\n",
    "\n",
    "B= list(B)\n",
    "#sparsité\n",
    "liste_0=[2,3,9,10,13,12,18]\n",
    "for i in liste_0:\n",
    "    B[i] = 0\n",
    "    \n",
    "# Génération d'une matrice X de taille (N, D)\n",
    "X = np.random.rand(D,N)\n",
    "\n",
    "y = np.array([X.T[i]@B + stat.norm.rvs(0,tau) for i in range (N)])\n",
    "\n",
    "V = np.linalg.inv(c0 * np.diag(d0) + X@X.T)"
   ]
  },
  {
   "cell_type": "code",
   "execution_count": 32,
   "metadata": {},
   "outputs": [],
   "source": [
    "a0, b0, c0, d0 = (2,3,1,5*np.ones(D))\n",
    "tau = stat.gamma.rvs(a0,b0)\n",
    "alpha = [stat.gamma.rvs(c0,d) for d in d0]\n",
    "beta0 = stat.norm.rvs(0,tau*np.diag(alpha)).diagonal()\n",
    "V0 = np.linalg.inv(c0 * np.diag(d0) + np.sum([x@x.T for x in X]))"
   ]
  },
  {
   "cell_type": "code",
   "execution_count": 33,
   "metadata": {},
   "outputs": [],
   "source": [
    "elbos, betas, Vs, bs, ds, dist = Cavi(beta0,V0,a0,b0,b0,d0,X,y,max_iter,eps)"
   ]
  },
  {
   "cell_type": "code",
   "execution_count": 34,
   "metadata": {},
   "outputs": [],
   "source": [
    "beta_new = betas[-1]"
   ]
  },
  {
   "cell_type": "code",
   "execution_count": 35,
   "metadata": {},
   "outputs": [
    {
     "data": {
      "text/plain": [
       "<matplotlib.legend.Legend at 0x21da3834fd0>"
      ]
     },
     "execution_count": 35,
     "metadata": {},
     "output_type": "execute_result"
    },
    {
     "data": {
      "image/png": "[encoded data removed]",
      "text/plain": [
       "<Figure size 1152x432 with 1 Axes>"
      ]
     },
     "metadata": {
      "needs_background": "light"
     },
     "output_type": "display_data"
    }
   ],
   "source": [
    "fig,ax=plt.subplots(1,1,figsize=(16,6))\n",
    "\n",
    "xx=np.arange(0,D)\n",
    "plt.scatter(xx,B,marker='x',label=\"Vrai Beta sparse\")\n",
    "plt.scatter(xx,beta_new,marker='*',label=\"Beta expérimentale\")\n",
    "plt.plot(xx,np.zeros(D))\n",
    "plt.grid()\n",
    "plt.ylim([-30,30])\n",
    "plt.title(\"Avec Sparsité\")\n",
    "plt.legend()"
   ]
  },
  {
   "cell_type": "markdown",
   "metadata": {},
   "source": [
    "On peut essayer de voir si la sparisté a une influence sur l'approximation en comparant la distance avec les éléments nuls et non nuls"
   ]
  },
  {
   "cell_type": "code",
   "execution_count": 36,
   "metadata": {},
   "outputs": [],
   "source": [
    "nul = np.mean([B[i]-beta_new[i] for i in liste_0])\n",
    "non_nul = np.mean([B[i]-beta_new[i] for i in range(len(B)) if i not in liste_0])"
   ]
  },
  {
   "cell_type": "code",
   "execution_count": 37,
   "metadata": {},
   "outputs": [
    {
     "name": "stdout",
     "output_type": "stream",
     "text": [
      "-0.2816727613572329\n",
      "0.28409144126927466\n"
     ]
    }
   ],
   "source": [
    "print(nul)\n",
    "print(non_nul)"
   ]
  },
  {
   "cell_type": "markdown",
   "metadata": {},
   "source": [
    "En exécutant plusieurs fois les lignes de code supérieur, nous pouvons remarquer que la sparsité n'a pas d'influence sur l'approxiamtion de $\\boldsymbol{\\beta}$."
   ]
  }
 ],
 "metadata": {
  "kernelspec": {
   "display_name": "Python 3",
   "language": "python",
   "name": "python3"
  },
  "language_info": {
   "codemirror_mode": {
    "name": "ipython",
    "version": 3
   },
   "file_extension": ".py",
   "mimetype": "text/x-python",
   "name": "python",
   "nbconvert_exporter": "python",
   "pygments_lexer": "ipython3",
   "version": "3.8.3"
  }
 },
 "nbformat": 4,
 "nbformat_minor": 4
}
